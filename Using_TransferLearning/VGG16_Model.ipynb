{
  "nbformat": 4,
  "nbformat_minor": 0,
  "metadata": {
    "accelerator": "GPU",
    "colab": {
      "name": "TransferLearning_Rv3.ipynb",
      "provenance": [],
      "collapsed_sections": []
    },
    "kernelspec": {
      "display_name": "Python 3",
      "name": "python3"
    }
  },
  "cells": [
    {
      "cell_type": "code",
      "metadata": {
        "id": "GK2VjGWkftvj"
      },
      "source": [
        "import numpy as np\n",
        "from tensorflow.keras.layers import Conv2D, MaxPool2D, Flatten, Dense, Dropout, BatchNormalization\n",
        "from tensorflow.keras import Sequential\n",
        "from tensorflow.keras.optimizers import Adam\n",
        "from tensorflow.keras.callbacks import EarlyStopping, ReduceLROnPlateau\n",
        "from tensorflow.keras.preprocessing.image import ImageDataGenerator\n",
        "from tensorflow.keras.applications.vgg16 import VGG16\n",
        "from tensorflow.keras import Model"
      ],
      "execution_count": 1,
      "outputs": []
    },
    {
      "cell_type": "code",
      "metadata": {
        "id": "YX_oe24Rgpp0"
      },
      "source": [
        "# Data Importing\n",
        "x_train = np.load('/content/drive/My Drive/Compition/xs.npy')\n",
        "y_train = np.load('/content/drive/My Drive/Compition/ys.npy')"
      ],
      "execution_count": 2,
      "outputs": []
    },
    {
      "cell_type": "code",
      "metadata": {
        "id": "q5hPXVI2guXa"
      },
      "source": [
        "def build_model():\n",
        "  vgg16 = VGG16(include_top = False, input_shape=(32,32,3),weights='imagenet')\n",
        "  for layer in vgg16.layers:\n",
        "    layer.trainable = False\n",
        "  x = Flatten()(vgg16.output)\n",
        "  x = Dense(500,activation='relu')(x)\n",
        "  x = BatchNormalization()(x)\n",
        "  x = Dropout(0.3)(x)\n",
        "  x = Dense(250,activation='relu')(x)\n",
        "  x = BatchNormalization()(x)\n",
        "  x = Dropout(0.25)(x)\n",
        "  x = Dense(70,activation='relu')(x)\n",
        "  x = BatchNormalization()(x)\n",
        "  x = Dropout(0.2)(x)\n",
        "  x = Dense(9,activation='softmax')(x)\n",
        "  m = Model(inputs = vgg16.inputs, outputs = x)\n",
        "  return m"
      ],
      "execution_count": 9,
      "outputs": []
    },
    {
      "cell_type": "code",
      "metadata": {
        "id": "VcAYrorRjzji"
      },
      "source": [
        "model = build_model()"
      ],
      "execution_count": 10,
      "outputs": []
    },
    {
      "cell_type": "code",
      "metadata": {
        "id": "YbiMT-zC0jd3"
      },
      "source": [
        "early_stopping = EarlyStopping(monitor = 'val_accuracy', patience =  20, restore_best_weights = True)\n",
        "lr_sechudle = ReduceLROnPlateau(monitor = 'val_accuracy', factor = 0.2, patience =  12 )"
      ],
      "execution_count": 11,
      "outputs": []
    },
    {
      "cell_type": "code",
      "metadata": {
        "id": "1w3Fploa0f0p"
      },
      "source": [
        "model.compile(optimizer=Adam(1e-4),\n",
        "              loss = 'sparse_categorical_crossentropy',\n",
        "              metrics = ['accuracy'])"
      ],
      "execution_count": 12,
      "outputs": []
    },
    {
      "cell_type": "code",
      "metadata": {
        "colab": {
          "base_uri": "https://localhost:8080/"
        },
        "id": "23lCAz970mLg",
        "outputId": "b235c823-3be1-44de-d543-225b8fefc92b"
      },
      "source": [
        "model.summary()"
      ],
      "execution_count": 13,
      "outputs": [
        {
          "output_type": "stream",
          "text": [
            "Model: \"functional_1\"\n",
            "_________________________________________________________________\n",
            "Layer (type)                 Output Shape              Param #   \n",
            "=================================================================\n",
            "input_2 (InputLayer)         [(None, 32, 32, 3)]       0         \n",
            "_________________________________________________________________\n",
            "block1_conv1 (Conv2D)        (None, 32, 32, 64)        1792      \n",
            "_________________________________________________________________\n",
            "block1_conv2 (Conv2D)        (None, 32, 32, 64)        36928     \n",
            "_________________________________________________________________\n",
            "block1_pool (MaxPooling2D)   (None, 16, 16, 64)        0         \n",
            "_________________________________________________________________\n",
            "block2_conv1 (Conv2D)        (None, 16, 16, 128)       73856     \n",
            "_________________________________________________________________\n",
            "block2_conv2 (Conv2D)        (None, 16, 16, 128)       147584    \n",
            "_________________________________________________________________\n",
            "block2_pool (MaxPooling2D)   (None, 8, 8, 128)         0         \n",
            "_________________________________________________________________\n",
            "block3_conv1 (Conv2D)        (None, 8, 8, 256)         295168    \n",
            "_________________________________________________________________\n",
            "block3_conv2 (Conv2D)        (None, 8, 8, 256)         590080    \n",
            "_________________________________________________________________\n",
            "block3_conv3 (Conv2D)        (None, 8, 8, 256)         590080    \n",
            "_________________________________________________________________\n",
            "block3_pool (MaxPooling2D)   (None, 4, 4, 256)         0         \n",
            "_________________________________________________________________\n",
            "block4_conv1 (Conv2D)        (None, 4, 4, 512)         1180160   \n",
            "_________________________________________________________________\n",
            "block4_conv2 (Conv2D)        (None, 4, 4, 512)         2359808   \n",
            "_________________________________________________________________\n",
            "block4_conv3 (Conv2D)        (None, 4, 4, 512)         2359808   \n",
            "_________________________________________________________________\n",
            "block4_pool (MaxPooling2D)   (None, 2, 2, 512)         0         \n",
            "_________________________________________________________________\n",
            "block5_conv1 (Conv2D)        (None, 2, 2, 512)         2359808   \n",
            "_________________________________________________________________\n",
            "block5_conv2 (Conv2D)        (None, 2, 2, 512)         2359808   \n",
            "_________________________________________________________________\n",
            "block5_conv3 (Conv2D)        (None, 2, 2, 512)         2359808   \n",
            "_________________________________________________________________\n",
            "block5_pool (MaxPooling2D)   (None, 1, 1, 512)         0         \n",
            "_________________________________________________________________\n",
            "flatten_1 (Flatten)          (None, 512)               0         \n",
            "_________________________________________________________________\n",
            "dense (Dense)                (None, 500)               256500    \n",
            "_________________________________________________________________\n",
            "batch_normalization (BatchNo (None, 500)               2000      \n",
            "_________________________________________________________________\n",
            "dropout (Dropout)            (None, 500)               0         \n",
            "_________________________________________________________________\n",
            "dense_1 (Dense)              (None, 250)               125250    \n",
            "_________________________________________________________________\n",
            "batch_normalization_1 (Batch (None, 250)               1000      \n",
            "_________________________________________________________________\n",
            "dropout_1 (Dropout)          (None, 250)               0         \n",
            "_________________________________________________________________\n",
            "dense_2 (Dense)              (None, 70)                17570     \n",
            "_________________________________________________________________\n",
            "batch_normalization_2 (Batch (None, 70)                280       \n",
            "_________________________________________________________________\n",
            "dropout_2 (Dropout)          (None, 70)                0         \n",
            "_________________________________________________________________\n",
            "dense_3 (Dense)              (None, 9)                 639       \n",
            "=================================================================\n",
            "Total params: 15,117,927\n",
            "Trainable params: 401,599\n",
            "Non-trainable params: 14,716,328\n",
            "_________________________________________________________________\n"
          ],
          "name": "stdout"
        }
      ]
    },
    {
      "cell_type": "code",
      "metadata": {
        "id": "WrJ9Xknr4SyQ"
      },
      "source": [
        "generator = ImageDataGenerator(rotation_range=90,\n",
        "                               zoom_range = 0.2,\n",
        "                               horizontal_flip = True,\n",
        "                               vertical_flip = True,\n",
        "                               width_shift_range = 0.1,\n",
        "                               height_shift_range = 0.1,\n",
        "                               validation_split = 0.2)"
      ],
      "execution_count": 14,
      "outputs": []
    },
    {
      "cell_type": "code",
      "metadata": {
        "colab": {
          "base_uri": "https://localhost:8080/"
        },
        "id": "d2RZaSkJl4rN",
        "outputId": "4cf5b33b-24ef-43c0-8db8-5885865611f6"
      },
      "source": [
        "model.fit(generator.flow(x_train,y_train,batch_size = 25),\n",
        "          validation_data = generator.flow(x_train,y_train,batch_size = 25, subset = 'validation'),\n",
        "          steps_per_epoch = len(x_train)/25,\n",
        "          epochs = 100,\n",
        "          verbose =  2,\n",
        "          callbacks=[early_stopping, lr_sechudle])\n",
        "\n"
      ],
      "execution_count": 15,
      "outputs": [
        {
          "output_type": "stream",
          "text": [
            "Epoch 1/100\n",
            "2100/2100 - 36s - loss: 2.0613 - accuracy: 0.3027 - val_loss: 1.5089 - val_accuracy: 0.4535\n",
            "Epoch 2/100\n",
            "2100/2100 - 35s - loss: 1.7263 - accuracy: 0.3836 - val_loss: 1.4002 - val_accuracy: 0.5005\n",
            "Epoch 3/100\n",
            "2100/2100 - 35s - loss: 1.6255 - accuracy: 0.4143 - val_loss: 1.3459 - val_accuracy: 0.5154\n",
            "Epoch 4/100\n",
            "2100/2100 - 36s - loss: 1.5639 - accuracy: 0.4352 - val_loss: 1.3290 - val_accuracy: 0.5278\n",
            "Epoch 5/100\n",
            "2100/2100 - 36s - loss: 1.5266 - accuracy: 0.4485 - val_loss: 1.3040 - val_accuracy: 0.5310\n",
            "Epoch 6/100\n",
            "2100/2100 - 36s - loss: 1.4941 - accuracy: 0.4618 - val_loss: 1.2838 - val_accuracy: 0.5387\n",
            "Epoch 7/100\n",
            "2100/2100 - 36s - loss: 1.4803 - accuracy: 0.4672 - val_loss: 1.2722 - val_accuracy: 0.5488\n",
            "Epoch 8/100\n",
            "2100/2100 - 36s - loss: 1.4676 - accuracy: 0.4752 - val_loss: 1.2616 - val_accuracy: 0.5508\n",
            "Epoch 9/100\n",
            "2100/2100 - 36s - loss: 1.4544 - accuracy: 0.4771 - val_loss: 1.2637 - val_accuracy: 0.5488\n",
            "Epoch 10/100\n",
            "2100/2100 - 36s - loss: 1.4450 - accuracy: 0.4802 - val_loss: 1.2496 - val_accuracy: 0.5522\n",
            "Epoch 11/100\n",
            "2100/2100 - 36s - loss: 1.4331 - accuracy: 0.4872 - val_loss: 1.2384 - val_accuracy: 0.5587\n",
            "Epoch 12/100\n",
            "2100/2100 - 36s - loss: 1.4192 - accuracy: 0.4882 - val_loss: 1.2359 - val_accuracy: 0.5568\n",
            "Epoch 13/100\n",
            "2100/2100 - 36s - loss: 1.4142 - accuracy: 0.4977 - val_loss: 1.2234 - val_accuracy: 0.5626\n",
            "Epoch 14/100\n",
            "2100/2100 - 35s - loss: 1.4130 - accuracy: 0.4943 - val_loss: 1.2218 - val_accuracy: 0.5648\n",
            "Epoch 15/100\n",
            "2100/2100 - 36s - loss: 1.4081 - accuracy: 0.4970 - val_loss: 1.2182 - val_accuracy: 0.5660\n",
            "Epoch 16/100\n",
            "2100/2100 - 36s - loss: 1.4044 - accuracy: 0.4966 - val_loss: 1.2063 - val_accuracy: 0.5691\n",
            "Epoch 17/100\n",
            "2100/2100 - 36s - loss: 1.3958 - accuracy: 0.5000 - val_loss: 1.2016 - val_accuracy: 0.5716\n",
            "Epoch 18/100\n",
            "2100/2100 - 35s - loss: 1.3917 - accuracy: 0.5041 - val_loss: 1.1968 - val_accuracy: 0.5787\n",
            "Epoch 19/100\n",
            "2100/2100 - 35s - loss: 1.3874 - accuracy: 0.5044 - val_loss: 1.1974 - val_accuracy: 0.5710\n",
            "Epoch 20/100\n",
            "2100/2100 - 36s - loss: 1.3757 - accuracy: 0.5056 - val_loss: 1.1858 - val_accuracy: 0.5766\n",
            "Epoch 21/100\n",
            "2100/2100 - 35s - loss: 1.3811 - accuracy: 0.5069 - val_loss: 1.1944 - val_accuracy: 0.5725\n",
            "Epoch 22/100\n",
            "2100/2100 - 36s - loss: 1.3731 - accuracy: 0.5066 - val_loss: 1.1881 - val_accuracy: 0.5720\n",
            "Epoch 23/100\n",
            "2100/2100 - 35s - loss: 1.3746 - accuracy: 0.5082 - val_loss: 1.1844 - val_accuracy: 0.5795\n",
            "Epoch 24/100\n",
            "2100/2100 - 35s - loss: 1.3746 - accuracy: 0.5090 - val_loss: 1.1966 - val_accuracy: 0.5699\n",
            "Epoch 25/100\n",
            "2100/2100 - 35s - loss: 1.3674 - accuracy: 0.5117 - val_loss: 1.1698 - val_accuracy: 0.5858\n",
            "Epoch 26/100\n",
            "2100/2100 - 35s - loss: 1.3626 - accuracy: 0.5115 - val_loss: 1.1760 - val_accuracy: 0.5813\n",
            "Epoch 27/100\n",
            "2100/2100 - 36s - loss: 1.3602 - accuracy: 0.5143 - val_loss: 1.1693 - val_accuracy: 0.5833\n",
            "Epoch 28/100\n",
            "2100/2100 - 36s - loss: 1.3610 - accuracy: 0.5124 - val_loss: 1.1659 - val_accuracy: 0.5839\n",
            "Epoch 29/100\n",
            "2100/2100 - 36s - loss: 1.3553 - accuracy: 0.5151 - val_loss: 1.1700 - val_accuracy: 0.5837\n",
            "Epoch 30/100\n",
            "2100/2100 - 36s - loss: 1.3533 - accuracy: 0.5184 - val_loss: 1.1672 - val_accuracy: 0.5864\n",
            "Epoch 31/100\n",
            "2100/2100 - 36s - loss: 1.3540 - accuracy: 0.5160 - val_loss: 1.1545 - val_accuracy: 0.5929\n",
            "Epoch 32/100\n",
            "2100/2100 - 36s - loss: 1.3477 - accuracy: 0.5169 - val_loss: 1.1577 - val_accuracy: 0.5909\n",
            "Epoch 33/100\n",
            "2100/2100 - 36s - loss: 1.3396 - accuracy: 0.5212 - val_loss: 1.1520 - val_accuracy: 0.5901\n",
            "Epoch 34/100\n",
            "2100/2100 - 35s - loss: 1.3401 - accuracy: 0.5226 - val_loss: 1.1627 - val_accuracy: 0.5826\n",
            "Epoch 35/100\n",
            "2100/2100 - 35s - loss: 1.3404 - accuracy: 0.5205 - val_loss: 1.1549 - val_accuracy: 0.5873\n",
            "Epoch 36/100\n",
            "2100/2100 - 35s - loss: 1.3422 - accuracy: 0.5218 - val_loss: 1.1525 - val_accuracy: 0.5838\n",
            "Epoch 37/100\n",
            "2100/2100 - 35s - loss: 1.3289 - accuracy: 0.5278 - val_loss: 1.1371 - val_accuracy: 0.5976\n",
            "Epoch 38/100\n",
            "2100/2100 - 35s - loss: 1.3345 - accuracy: 0.5208 - val_loss: 1.1411 - val_accuracy: 0.5930\n",
            "Epoch 39/100\n",
            "2100/2100 - 35s - loss: 1.3320 - accuracy: 0.5247 - val_loss: 1.1266 - val_accuracy: 0.5957\n",
            "Epoch 40/100\n",
            "2100/2100 - 35s - loss: 1.3334 - accuracy: 0.5252 - val_loss: 1.1424 - val_accuracy: 0.5872\n",
            "Epoch 41/100\n",
            "2100/2100 - 35s - loss: 1.3281 - accuracy: 0.5270 - val_loss: 1.1466 - val_accuracy: 0.5888\n",
            "Epoch 42/100\n",
            "2100/2100 - 36s - loss: 1.3255 - accuracy: 0.5264 - val_loss: 1.1403 - val_accuracy: 0.5961\n",
            "Epoch 43/100\n",
            "2100/2100 - 35s - loss: 1.3202 - accuracy: 0.5289 - val_loss: 1.1466 - val_accuracy: 0.5942\n",
            "Epoch 44/100\n",
            "2100/2100 - 35s - loss: 1.3284 - accuracy: 0.5239 - val_loss: 1.1400 - val_accuracy: 0.5943\n",
            "Epoch 45/100\n",
            "2100/2100 - 35s - loss: 1.3257 - accuracy: 0.5273 - val_loss: 1.1258 - val_accuracy: 0.6026\n",
            "Epoch 46/100\n",
            "2100/2100 - 35s - loss: 1.3238 - accuracy: 0.5274 - val_loss: 1.1274 - val_accuracy: 0.5959\n",
            "Epoch 47/100\n",
            "2100/2100 - 35s - loss: 1.3217 - accuracy: 0.5304 - val_loss: 1.1341 - val_accuracy: 0.5952\n",
            "Epoch 48/100\n",
            "2100/2100 - 34s - loss: 1.3188 - accuracy: 0.5310 - val_loss: 1.1309 - val_accuracy: 0.5947\n",
            "Epoch 49/100\n",
            "2100/2100 - 35s - loss: 1.3177 - accuracy: 0.5302 - val_loss: 1.1247 - val_accuracy: 0.6038\n",
            "Epoch 50/100\n",
            "2100/2100 - 35s - loss: 1.3164 - accuracy: 0.5297 - val_loss: 1.1287 - val_accuracy: 0.6013\n",
            "Epoch 51/100\n",
            "2100/2100 - 35s - loss: 1.3186 - accuracy: 0.5301 - val_loss: 1.1322 - val_accuracy: 0.5941\n",
            "Epoch 52/100\n",
            "2100/2100 - 35s - loss: 1.3088 - accuracy: 0.5311 - val_loss: 1.1158 - val_accuracy: 0.6029\n",
            "Epoch 53/100\n",
            "2100/2100 - 35s - loss: 1.3142 - accuracy: 0.5317 - val_loss: 1.1254 - val_accuracy: 0.5975\n",
            "Epoch 54/100\n",
            "2100/2100 - 36s - loss: 1.3112 - accuracy: 0.5297 - val_loss: 1.1229 - val_accuracy: 0.6018\n",
            "Epoch 55/100\n",
            "2100/2100 - 35s - loss: 1.3131 - accuracy: 0.5308 - val_loss: 1.1178 - val_accuracy: 0.6001\n",
            "Epoch 56/100\n",
            "2100/2100 - 35s - loss: 1.3114 - accuracy: 0.5322 - val_loss: 1.1214 - val_accuracy: 0.6023\n",
            "Epoch 57/100\n",
            "2100/2100 - 35s - loss: 1.3112 - accuracy: 0.5340 - val_loss: 1.1158 - val_accuracy: 0.6061\n",
            "Epoch 58/100\n",
            "2100/2100 - 35s - loss: 1.3058 - accuracy: 0.5339 - val_loss: 1.1151 - val_accuracy: 0.6058\n",
            "Epoch 59/100\n",
            "2100/2100 - 35s - loss: 1.3084 - accuracy: 0.5341 - val_loss: 1.1202 - val_accuracy: 0.6058\n",
            "Epoch 60/100\n",
            "2100/2100 - 35s - loss: 1.3025 - accuracy: 0.5332 - val_loss: 1.1179 - val_accuracy: 0.6089\n",
            "Epoch 61/100\n",
            "2100/2100 - 35s - loss: 1.3109 - accuracy: 0.5333 - val_loss: 1.1032 - val_accuracy: 0.6030\n",
            "Epoch 62/100\n",
            "2100/2100 - 34s - loss: 1.2972 - accuracy: 0.5378 - val_loss: 1.1155 - val_accuracy: 0.6045\n",
            "Epoch 63/100\n",
            "2100/2100 - 35s - loss: 1.3010 - accuracy: 0.5344 - val_loss: 1.1143 - val_accuracy: 0.6042\n",
            "Epoch 64/100\n",
            "2100/2100 - 36s - loss: 1.3031 - accuracy: 0.5355 - val_loss: 1.1065 - val_accuracy: 0.6049\n",
            "Epoch 65/100\n",
            "2100/2100 - 36s - loss: 1.3052 - accuracy: 0.5351 - val_loss: 1.1070 - val_accuracy: 0.6074\n",
            "Epoch 66/100\n",
            "2100/2100 - 36s - loss: 1.2964 - accuracy: 0.5368 - val_loss: 1.1063 - val_accuracy: 0.6079\n",
            "Epoch 67/100\n",
            "2100/2100 - 35s - loss: 1.2923 - accuracy: 0.5396 - val_loss: 1.1015 - val_accuracy: 0.6069\n",
            "Epoch 68/100\n",
            "2100/2100 - 36s - loss: 1.2940 - accuracy: 0.5411 - val_loss: 1.0988 - val_accuracy: 0.6139\n",
            "Epoch 69/100\n",
            "2100/2100 - 36s - loss: 1.2946 - accuracy: 0.5387 - val_loss: 1.0985 - val_accuracy: 0.6131\n",
            "Epoch 70/100\n",
            "2100/2100 - 36s - loss: 1.2949 - accuracy: 0.5391 - val_loss: 1.1106 - val_accuracy: 0.6046\n",
            "Epoch 71/100\n",
            "2100/2100 - 36s - loss: 1.2946 - accuracy: 0.5377 - val_loss: 1.1043 - val_accuracy: 0.6088\n",
            "Epoch 72/100\n",
            "2100/2100 - 36s - loss: 1.2953 - accuracy: 0.5358 - val_loss: 1.0913 - val_accuracy: 0.6112\n",
            "Epoch 73/100\n",
            "2100/2100 - 36s - loss: 1.2899 - accuracy: 0.5412 - val_loss: 1.0862 - val_accuracy: 0.6170\n",
            "Epoch 74/100\n",
            "2100/2100 - 36s - loss: 1.2938 - accuracy: 0.5383 - val_loss: 1.0937 - val_accuracy: 0.6110\n",
            "Epoch 75/100\n",
            "2100/2100 - 36s - loss: 1.2884 - accuracy: 0.5412 - val_loss: 1.1092 - val_accuracy: 0.6085\n",
            "Epoch 76/100\n",
            "2100/2100 - 36s - loss: 1.2934 - accuracy: 0.5397 - val_loss: 1.1040 - val_accuracy: 0.6062\n",
            "Epoch 77/100\n",
            "2100/2100 - 37s - loss: 1.2918 - accuracy: 0.5365 - val_loss: 1.0929 - val_accuracy: 0.6130\n",
            "Epoch 78/100\n",
            "2100/2100 - 37s - loss: 1.2864 - accuracy: 0.5439 - val_loss: 1.0865 - val_accuracy: 0.6145\n",
            "Epoch 79/100\n",
            "2100/2100 - 36s - loss: 1.2889 - accuracy: 0.5396 - val_loss: 1.0823 - val_accuracy: 0.6219\n",
            "Epoch 80/100\n",
            "2100/2100 - 36s - loss: 1.2877 - accuracy: 0.5419 - val_loss: 1.0833 - val_accuracy: 0.6179\n",
            "Epoch 81/100\n",
            "2100/2100 - 36s - loss: 1.2845 - accuracy: 0.5438 - val_loss: 1.0897 - val_accuracy: 0.6148\n",
            "Epoch 82/100\n",
            "2100/2100 - 36s - loss: 1.2827 - accuracy: 0.5430 - val_loss: 1.0882 - val_accuracy: 0.6130\n",
            "Epoch 83/100\n",
            "2100/2100 - 36s - loss: 1.2835 - accuracy: 0.5430 - val_loss: 1.0967 - val_accuracy: 0.6154\n",
            "Epoch 84/100\n",
            "2100/2100 - 36s - loss: 1.2808 - accuracy: 0.5433 - val_loss: 1.0806 - val_accuracy: 0.6172\n",
            "Epoch 85/100\n",
            "2100/2100 - 36s - loss: 1.2789 - accuracy: 0.5426 - val_loss: 1.0884 - val_accuracy: 0.6191\n",
            "Epoch 86/100\n",
            "2100/2100 - 36s - loss: 1.2863 - accuracy: 0.5406 - val_loss: 1.0914 - val_accuracy: 0.6095\n",
            "Epoch 87/100\n",
            "2100/2100 - 35s - loss: 1.2836 - accuracy: 0.5432 - val_loss: 1.0850 - val_accuracy: 0.6157\n",
            "Epoch 88/100\n",
            "2100/2100 - 35s - loss: 1.2812 - accuracy: 0.5411 - val_loss: 1.0813 - val_accuracy: 0.6155\n",
            "Epoch 89/100\n",
            "2100/2100 - 35s - loss: 1.2820 - accuracy: 0.5414 - val_loss: 1.0819 - val_accuracy: 0.6160\n",
            "Epoch 90/100\n",
            "2100/2100 - 35s - loss: 1.2778 - accuracy: 0.5437 - val_loss: 1.0789 - val_accuracy: 0.6209\n",
            "Epoch 91/100\n",
            "2100/2100 - 35s - loss: 1.2794 - accuracy: 0.5457 - val_loss: 1.0912 - val_accuracy: 0.6080\n",
            "Epoch 92/100\n",
            "2100/2100 - 35s - loss: 1.2801 - accuracy: 0.5439 - val_loss: 1.0731 - val_accuracy: 0.6201\n",
            "Epoch 93/100\n",
            "2100/2100 - 35s - loss: 1.2698 - accuracy: 0.5448 - val_loss: 1.0803 - val_accuracy: 0.6163\n",
            "Epoch 94/100\n",
            "2100/2100 - 35s - loss: 1.2769 - accuracy: 0.5458 - val_loss: 1.0731 - val_accuracy: 0.6174\n",
            "Epoch 95/100\n",
            "2100/2100 - 35s - loss: 1.2714 - accuracy: 0.5491 - val_loss: 1.0715 - val_accuracy: 0.6177\n",
            "Epoch 96/100\n",
            "2100/2100 - 35s - loss: 1.2667 - accuracy: 0.5465 - val_loss: 1.0765 - val_accuracy: 0.6178\n",
            "Epoch 97/100\n",
            "2100/2100 - 35s - loss: 1.2631 - accuracy: 0.5509 - val_loss: 1.0708 - val_accuracy: 0.6161\n",
            "Epoch 98/100\n",
            "2100/2100 - 35s - loss: 1.2665 - accuracy: 0.5488 - val_loss: 1.0632 - val_accuracy: 0.6247\n",
            "Epoch 99/100\n",
            "2100/2100 - 35s - loss: 1.2653 - accuracy: 0.5500 - val_loss: 1.0747 - val_accuracy: 0.6150\n",
            "Epoch 100/100\n",
            "2100/2100 - 35s - loss: 1.2655 - accuracy: 0.5486 - val_loss: 1.0640 - val_accuracy: 0.6231\n"
          ],
          "name": "stdout"
        },
        {
          "output_type": "execute_result",
          "data": {
            "text/plain": [
              "<tensorflow.python.keras.callbacks.History at 0x7fbc311b3ef0>"
            ]
          },
          "metadata": {
            "tags": []
          },
          "execution_count": 15
        }
      ]
    },
    {
      "cell_type": "code",
      "metadata": {
        "id": "5ISBXX0-Iq7l"
      },
      "source": [
        "model.save('model.h5')"
      ],
      "execution_count": 16,
      "outputs": []
    }
  ]
}